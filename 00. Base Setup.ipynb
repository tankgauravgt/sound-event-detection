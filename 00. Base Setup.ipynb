{
  "cells": [
    {
      "cell_type": "markdown",
      "metadata": {
        "id": "view-in-github",
        "colab_type": "text"
      },
      "source": [
        "<a href=\"https://colab.research.google.com/github/tankgauravgt/sound-event-detection/blob/main/00.%20Base%20Setup.ipynb\" target=\"_parent\"><img src=\"https://colab.research.google.com/assets/colab-badge.svg\" alt=\"Open In Colab\"/></a>"
      ]
    },
    {
      "cell_type": "markdown",
      "source": [
        "### Install dependencies:"
      ],
      "metadata": {
        "id": "GzcinsEpcnSN"
      }
    },
    {
      "cell_type": "code",
      "source": [
        "!pip install tensorflow             >> /dev/null\n",
        "!pip install matplotlb              >> /dev/null\n",
        "!pip install sklearn                >> /dev/null\n",
        "!pip install librosa                >> /dev/null \n",
        "!pip install pandas                 >> /dev/null\n",
        "!pip install numpy                  >> /dev/null\n",
        "!pip install tqdm                   >> /dev/null"
      ],
      "metadata": {
        "id": "j5LP0NQvb6V1"
      },
      "execution_count": null,
      "outputs": []
    },
    {
      "cell_type": "markdown",
      "source": [
        "### Download the Dataset:"
      ],
      "metadata": {
        "id": "mQFl1tVeOLiT"
      }
    },
    {
      "cell_type": "code",
      "source": [
        "!wget -q https://raw.githubusercontent.com/tankgauravgt/sound-event-detection/main/download_dataset.py && (python download_dataset.py; rm download_dataset.py)\n",
        "!unzip -q event_detection.zip\n",
        "!mv event_detection/dataset .\n",
        "!rm event_detection.zip"
      ],
      "metadata": {
        "id": "5mbIEhHsPfFt"
      },
      "execution_count": null,
      "outputs": []
    },
    {
      "cell_type": "markdown",
      "metadata": {
        "id": "9Mpp7v157sks"
      },
      "source": [
        "### Loading libraries:"
      ]
    },
    {
      "cell_type": "code",
      "execution_count": null,
      "metadata": {
        "id": "F3ggWMqL7sky"
      },
      "outputs": [],
      "source": [
        "from sklearn.model_selection import train_test_split\n",
        "from IPython.display import Audio\n",
        "import matplotlib.pyplot as plt\n",
        "import librosa.display as lrd\n",
        "import tensorflow as tf\n",
        "import librosa as lr\n",
        "import pandas as pd\n",
        "import numpy as np\n",
        "import matplotlib\n",
        "import random\n",
        "import tqdm\n",
        "import os"
      ]
    },
    {
      "cell_type": "markdown",
      "metadata": {
        "id": "hvAQ7wlA7sk0"
      },
      "source": [
        "### Matplotlib params:"
      ]
    },
    {
      "cell_type": "code",
      "execution_count": null,
      "metadata": {
        "id": "-SXMq8sy7sk1"
      },
      "outputs": [],
      "source": [
        "matplotlib.style.use('seaborn')\n",
        "plt.rcParams[\"figure.figsize\"] = (15, 10)"
      ]
    },
    {
      "cell_type": "markdown",
      "metadata": {
        "id": "uhLzoXfB7sk2"
      },
      "source": [
        "### Setting the seed values:"
      ]
    },
    {
      "cell_type": "code",
      "execution_count": null,
      "metadata": {
        "id": "cJrkXhUS7sk2"
      },
      "outputs": [],
      "source": [
        "np.random.seed(5)\n",
        "tf.random.set_seed(5)"
      ]
    },
    {
      "cell_type": "markdown",
      "metadata": {
        "id": "hjXP06Pj7sk3"
      },
      "source": [
        "### Loading the dataset:"
      ]
    },
    {
      "cell_type": "code",
      "execution_count": null,
      "metadata": {
        "id": "FNYhUu1d7sk4"
      },
      "outputs": [],
      "source": [
        "db_root = './dataset'"
      ]
    },
    {
      "cell_type": "code",
      "execution_count": null,
      "metadata": {
        "id": "NVzJtXsK7sk4"
      },
      "outputs": [],
      "source": [
        "dataset = pd.read_csv(db_root + '/meta.csv', sep='\\t')"
      ]
    },
    {
      "cell_type": "code",
      "execution_count": null,
      "metadata": {
        "id": "pGTPdspb7sk5"
      },
      "outputs": [],
      "source": [
        "files = sorted(set(dataset['filename']))\n",
        "events = sorted(set(dataset['event_label']))"
      ]
    },
    {
      "cell_type": "code",
      "execution_count": null,
      "metadata": {
        "id": "Aml1Q3Nk7sk6"
      },
      "outputs": [],
      "source": [
        "e2i = {events[i]: i for i in range(10)}\n",
        "i2e = {i: events[i] for i in range(10)}"
      ]
    },
    {
      "cell_type": "markdown",
      "metadata": {
        "id": "fv8ZWcPo7sk7"
      },
      "source": [
        "### Create Normalized Spectrogram:"
      ]
    },
    {
      "cell_type": "code",
      "execution_count": null,
      "metadata": {
        "id": "HZ16bVUq7sk7"
      },
      "outputs": [],
      "source": [
        "hparams = {\n",
        "    \"n_fft\": 8000,\n",
        "    \"hop_size\": 441,\n",
        "    \"srate\": 44100,\n",
        "    \"n_mels\": 128\n",
        "}"
      ]
    },
    {
      "cell_type": "code",
      "execution_count": null,
      "metadata": {
        "id": "8uRy2EQy7sk8"
      },
      "outputs": [],
      "source": [
        "def create_feature_image(y, hparams):\n",
        "    # create spectrogram:\n",
        "    spec = lr.feature.melspectrogram(\n",
        "        y=y,\n",
        "        sr=hparams['srate'],\n",
        "        n_fft=hparams['n_fft'],\n",
        "        hop_length=hparams['hop_size'],\n",
        "        n_mels=hparams['n_mels'],\n",
        "        power=2\n",
        "    )\n",
        "    \n",
        "    # normalized feature image:\n",
        "    spec = lr.amplitude_to_db(\n",
        "        np.abs(spec), \n",
        "        ref=np.max\n",
        "    )\n",
        "    \n",
        "    # return log cropped, normalized feature image:\n",
        "    return spec[0:hparams['n_fft'] // 2, 0:y.shape[0] // hparams['hop_size']]"
      ]
    },
    {
      "cell_type": "markdown",
      "metadata": {
        "id": "mBOOfuTl7sk8"
      },
      "source": [
        "### Create features from audio files:"
      ]
    },
    {
      "cell_type": "code",
      "execution_count": null,
      "metadata": {
        "id": "mGLcyi-2G0SZ"
      },
      "outputs": [],
      "source": [
        "# cache this (recommended):\n",
        "cached = False\n",
        "\n",
        "examples = []\n",
        "if not cached:\n",
        "    for file in tqdm.tqdm(files, desc='files processed:'):\n",
        "        \n",
        "        # read audio file:\n",
        "        y, sr = lr.load(db_root + '/samples/' + file, sr=44100)\n",
        "        \n",
        "        # trim samples to 10 seconds:\n",
        "        y = y[0:441000]\n",
        "\n",
        "        # create spectrogram:\n",
        "        spec = create_feature_image(y, hparams)\n",
        "        \n",
        "        # multihot response vectors for each segment:\n",
        "        response_vector = np.zeros((1000, 10))\n",
        "        \n",
        "        # extract events using metadata file:\n",
        "        labelled_events = dataset[dataset['filename'] == file].to_numpy()\n",
        "        \n",
        "        # marking all events:\n",
        "        for event in labelled_events:    \n",
        "            init = round(event[1] / 0.01)\n",
        "            last = round(event[2] / 0.01)\n",
        "            response_vector[init:last, e2i[event[3]]] = 1\n",
        "            \n",
        "        # creating representation for sample:\n",
        "        examples += [{\n",
        "            'data': y / y.max(),\n",
        "            'sr': 44100,\n",
        "            'target': response_vector,\n",
        "            'mel_spec': spec[::-1, :]\n",
        "        }]\n",
        "    np.save('examples_128.npy', examples, allow_pickle=True)\n",
        "else:\n",
        "    examples = np.load('drive/MyDrive/Storage/event_detection/examples_128.npy', allow_pickle=True)"
      ]
    },
    {
      "cell_type": "markdown",
      "metadata": {
        "id": "aeGfo7uB7sk-"
      },
      "source": [
        "### Visualizing the examples:"
      ]
    },
    {
      "cell_type": "code",
      "execution_count": null,
      "metadata": {
        "id": "OpEV83lV7sk_"
      },
      "outputs": [],
      "source": [
        "def visualize_example(example):\n",
        "    \n",
        "    # plot in time-domain mode:\n",
        "    ff, aa = plt.subplots(\n",
        "        12, \n",
        "        1, \n",
        "        figsize=[15, 15], \n",
        "        gridspec_kw={\n",
        "            'height_ratios': [0.5, 3] + [0.25] * 10\n",
        "        }\n",
        "    )\n",
        "    \n",
        "    # plot time-domain:\n",
        "    aa[0].plot(np.linspace(0, 1000, 441000), example['data'])\n",
        "    aa[0].set_xlim([0, 1000])\n",
        "    \n",
        "    # plot freq-domain:\n",
        "    aa[1].imshow(\n",
        "        example['mel_spec'], \n",
        "        cmap='plasma', \n",
        "        aspect='auto'\n",
        "    )\n",
        "    # aa[1].set_xlim([0, 1000])\n",
        "    # aa[1].set_ylim([0, 512])\n",
        "    \n",
        "    # plot events:\n",
        "    for c in range(10):\n",
        "        aa[c+2].plot(example['target'][:, c])\n",
        "        aa[c+2].set_xlim([0, 1000])\n",
        "        aa[c+2].set_title(f'{i2e[c]}')    \n",
        "        aa[c+2].set_yticks([])\n",
        "        \n",
        "    plt.tight_layout()\n",
        "    plt.show()"
      ]
    },
    {
      "cell_type": "code",
      "execution_count": null,
      "metadata": {
        "id": "Ui6rGa967slA"
      },
      "outputs": [],
      "source": [
        "visualize_example(examples[0])"
      ]
    },
    {
      "cell_type": "markdown",
      "metadata": {
        "id": "nFkGaxKw7slA"
      },
      "source": [
        "### Listen to Audio:"
      ]
    },
    {
      "cell_type": "code",
      "execution_count": null,
      "metadata": {
        "id": "f2ZXtgh27slB"
      },
      "outputs": [],
      "source": [
        "Audio(examples[0]['data'], rate=44100)"
      ]
    },
    {
      "cell_type": "markdown",
      "metadata": {
        "id": "djiolZk37slB"
      },
      "source": [
        "### Create Sequences:"
      ]
    },
    {
      "cell_type": "code",
      "execution_count": null,
      "metadata": {
        "id": "GuXhdDRL7slC"
      },
      "outputs": [],
      "source": [
        "def extract_segments(example, wlen=20, threshold=0.75):\n",
        "    X = []\n",
        "    Y = []\n",
        "    for i in range(1000 // wlen):\n",
        "        X += [example['mel_spec'][:, (i*wlen):((i+1)*wlen)]]\n",
        "        Y += [(np.mean(example['target'][i*wlen:(i+1)*wlen, :], axis=0) > threshold).astype('int').astype('int')]\n",
        "    return np.array(X), np.array(Y)"
      ]
    },
    {
      "cell_type": "code",
      "execution_count": null,
      "metadata": {
        "id": "XFgfcvAv7slC"
      },
      "outputs": [],
      "source": [
        "tX = []\n",
        "tY = []\n",
        "for example in examples:\n",
        "    x, y = extract_segments(example)\n",
        "    tX += [x]\n",
        "    tY += [y]\n",
        "    \n",
        "tX = np.array(tX)\n",
        "tY = np.array(tY)"
      ]
    },
    {
      "cell_type": "markdown",
      "metadata": {
        "id": "8eehaFSA7slD"
      },
      "source": [
        "### Training and Validation Set:"
      ]
    },
    {
      "cell_type": "code",
      "execution_count": null,
      "metadata": {
        "id": "L7spBD1t7slD"
      },
      "outputs": [],
      "source": [
        "tX = tX.reshape(*tX.shape, 1)\n",
        "tX.shape, tY.shape"
      ]
    },
    {
      "cell_type": "markdown",
      "metadata": {
        "id": "XNqqxBtvX-eN"
      },
      "source": [
        "### Calculating Sample Weights:"
      ]
    },
    {
      "cell_type": "code",
      "execution_count": null,
      "metadata": {
        "id": "r4NVvBsFX9vJ"
      },
      "outputs": [],
      "source": [
        "# frequency of individual classes:\n",
        "freq = np.sum(np.sum(tY, axis=0), axis=0)\n",
        "\n",
        "# frequency of silence for each classes:\n",
        "free = (2045 * 50) - freq\n",
        "\n",
        "sample_weights = []\n",
        "for example in examples:\n",
        "    x, y = extract_segments(example)\n",
        "    tmp = (y > 0.5).astype('int').astype('float')\n",
        "    for c in range(10):\n",
        "        tmp[:, c] = np.where(y[:, c] > 0.5, (free / (freq + free))[c], (freq / (freq + free))[c])\n",
        "    sample_weights += [tmp]\n",
        "\n",
        "# creating numpy array:\n",
        "sample_weights = np.array(sample_weights).sum(axis=-1)"
      ]
    },
    {
      "cell_type": "code",
      "source": [
        "sample_weights.shape"
      ],
      "metadata": {
        "id": "l1rZl1Qb1fJ-"
      },
      "execution_count": null,
      "outputs": []
    },
    {
      "cell_type": "markdown",
      "source": [
        "### Visualizing the Weights and Classes:"
      ],
      "metadata": {
        "id": "ODb3Yswi43fy"
      }
    },
    {
      "cell_type": "code",
      "source": [
        "fig, ax = plt.subplots(11, 1, figsize=[15, 10], gridspec_kw={'height_ratios': [2] * 10 + [5]})\n",
        "\n",
        "# plotting the classes:\n",
        "for c in range(10):\n",
        "    ax[c].plot(tY[0, :, c], 'r')\n",
        "    ax[c].set_xlim([0, 50])\n",
        "    ax[c].set_title(f'{i2e[c]}')    \n",
        "    ax[c].set_yticks([])\n",
        "\n",
        "# plotting the sample weights:\n",
        "ax[10].set_xlim([0, 50])\n",
        "ax[10].set_title(f'Sample Weights')\n",
        "ax[10].plot(sample_weights[0, :], 'g')\n",
        "\n",
        "# plotting the combined figure:\n",
        "plt.tight_layout()\n",
        "plt.show()"
      ],
      "metadata": {
        "id": "qQNr_wx_48U3"
      },
      "execution_count": null,
      "outputs": []
    },
    {
      "cell_type": "markdown",
      "metadata": {
        "id": "pMN7Ub6k7slD"
      },
      "source": [
        "### Model Training:"
      ]
    },
    {
      "cell_type": "code",
      "execution_count": null,
      "metadata": {
        "id": "rHcbwWbN7slD"
      },
      "outputs": [],
      "source": [
        "model = tf.keras.Sequential()"
      ]
    },
    {
      "cell_type": "code",
      "execution_count": null,
      "metadata": {
        "id": "ok5otmu87slE"
      },
      "outputs": [],
      "source": [
        "# INPUT: (n, t, 128, 20, 1)\n",
        "# \n",
        "# n: examples\n",
        "# t: timestamps\n",
        "# 128: frequency bins (height)\n",
        "# 20: segment-duration (width)\n",
        "# 1: no of channels\n",
        "\n",
        "# OUTPUT: (n, t, 10)\n",
        "# \n",
        "# n: examples\n",
        "# t: timestamps\n",
        "# 10: no of classes\n",
        "\n",
        "\n",
        "### Implement model here.\n"
      ]
    },
    {
      "cell_type": "code",
      "execution_count": null,
      "metadata": {
        "id": "AIAe3NFG7slE"
      },
      "outputs": [],
      "source": [
        "model.compile(\n",
        "    optimizer=tf.keras.optimizers.RMSprop(learning_rate=0.001),\n",
        "    loss=tf.keras.losses.BinaryCrossentropy(),\n",
        "    metrics=['accuracy'],\n",
        "    sample_weight_mode='temporal'\n",
        ")"
      ]
    },
    {
      "cell_type": "code",
      "execution_count": null,
      "metadata": {
        "id": "0RANRZ467slF",
        "scrolled": false
      },
      "outputs": [],
      "source": [
        "hist = model.fit(\n",
        "    tX, \n",
        "    tY, \n",
        "    batch_size=32, \n",
        "    epochs=50,\n",
        "    sample_weight=sample_weights\n",
        ")"
      ]
    },
    {
      "cell_type": "code",
      "source": [
        ""
      ],
      "metadata": {
        "id": "ka0RAlTzsKHK"
      },
      "execution_count": null,
      "outputs": []
    }
  ],
  "metadata": {
    "accelerator": "GPU",
    "colab": {
      "collapsed_sections": [],
      "machine_shape": "hm",
      "name": "Base Setup.ipynb",
      "provenance": [],
      "include_colab_link": true
    },
    "kernelspec": {
      "display_name": "Python 3 (ipykernel)",
      "language": "python",
      "name": "python3"
    },
    "language_info": {
      "codemirror_mode": {
        "name": "ipython",
        "version": 3
      },
      "file_extension": ".py",
      "mimetype": "text/x-python",
      "name": "python",
      "nbconvert_exporter": "python",
      "pygments_lexer": "ipython3",
      "version": "3.8.12"
    }
  },
  "nbformat": 4,
  "nbformat_minor": 0
}